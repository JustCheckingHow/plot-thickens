{
 "cells": [
  {
   "cell_type": "markdown",
   "metadata": {},
   "source": [
    "#\n",
    "\n",
    "This notebook demonstrates how to connect to the Style Guard WebSocket service and send text for style checking."
   ]
  },
  {
   "cell_type": "code",
   "execution_count": 17,
   "metadata": {},
   "outputs": [],
   "source": [
    "import json\n",
    "import websockets\n",
    "import asyncio\n",
    "from IPython.display import display, Markdown"
   ]
  },
  {
   "cell_type": "markdown",
   "metadata": {},
   "source": [
    "## Define WebSocket Connection Function"
   ]
  },
  {
   "cell_type": "code",
   "execution_count": 19,
   "metadata": {},
   "outputs": [],
   "source": [
    "async def connect_to_style_guard(text_samples):\n",
    "    uri = \"ws://localhost:8000/api/logic-inspector\"\n",
    "\n",
    "    character_summaries = \"\"\"\n",
    "Chapter 1:\n",
    "Eva Rostova\n",
    "\n",
    "Character Description\n",
    "Eva is the captain of the Odyssey, an engineer and pilot faced with resource scarcity on Station Epsilon. She isn't a natural explorer but volunteered to pilot the Odyssey toward Xylos, driven by a belief in the mission's necessity and a personal connection to her daughter, Anya. She is motivated by the hope of discovering a new energy source and the well-being of Anya and the children on Epsilon. Eva carries a stone given to her by Anya, symbolizing her connection and motivation.\n",
    "\n",
    "Character Relationships\n",
    "Anya: Eva’s daughter, who inspires and motivates her through the gift of a stone and the hope of finding new energy.\n",
    "Jax: Co-pilot on the mission to Xylos and a reluctant xenobotanist.\n",
    "Jax\n",
    "\n",
    "Character Description\n",
    "Jax is Eva's co-pilot and the mission's reluctant xenobotanist, responsible for life support settings. Initially, he argued against the mission due to its risks but ultimately participated.\n",
    "\n",
    "Character Relationships\n",
    "Eva: Pilot and teammate on the mission to Xylos.\n",
    "Anya\n",
    "\n",
    "Character Description\n",
    "Anya is Eva’s daughter, who has a supportive and influential role in Eva’s life. She gave Eva a \"small, smooth stone,\" representing a source of inspiration or support during the mission.\n",
    "\n",
    "Character Relationships\n",
    "Eva: Her mother, whom she supports by giving a meaningful stone.\n",
    "\n",
    "Chapter 2:\n",
    "Eva\n",
    "\n",
    "Character Description\n",
    "Eva is portrayed as efficient and skilled in handling emergencies, particularly adept at identifying faults in the ship’s systems. She is decisive and urgent, especially when her daughter, Anya, is involved, prioritizing immediate solutions over standard protocols. Her dedication to the mission is driven by a personal obligation to her daughter's future, viewing their lives and the ship as tools to achieve it.\n",
    "\n",
    "Character Relationships\n",
    "Jax: Collaborates closely with Jax, convincing him to bypass standard procedures due to urgency and sharing the importance of their mission with him.\n",
    "Jax\n",
    "\n",
    "Character Description\n",
    "Jax is a pragmatist who is quick to respond to emergencies through established procedures but shows initial hesitation to bypass them. He displays doubt and concern for risks but is also awed by their mission's significance.\n",
    "\n",
    "Character Relationships\n",
    "Eva: Works alongside Eva, relying on her expertise and respecting her decisiveness. He is involved in reaching the Xylos system with her, responding to her dedication.\n",
    "\n",
    "\n",
    "    \"\"\"\n",
    "    location_summaries = \"\"\"\n",
    "    Xylos\n",
    "    Chapter: 1\n",
    "    Xylos is a planet with a red sun.\n",
    "    \"\"\"\n",
    "    #\n",
    "    async with websockets.connect(uri) as websocket:\n",
    "        # Send initial style prompt\n",
    "        await websocket.send(\n",
    "            json.dumps(\n",
    "                {\n",
    "                    \"character_summaries\": character_summaries,\n",
    "                    \"location_summaries\": location_summaries,\n",
    "                }\n",
    "            )\n",
    "        )\n",
    "\n",
    "        # Process each text sample\n",
    "        for i, text in enumerate(text_samples):\n",
    "            print(f\"\\n--- Sending Text Sample {i+1} ---\")\n",
    "            print(f\"Text: {text[:100]}...\" if len(text) > 100 else f\"Text: {text}\")\n",
    "\n",
    "            # Send the text for checking\n",
    "            await websocket.send(json.dumps({\"text\": text}))\n",
    "\n",
    "            # Continue receiving messages until we get the \"done\" signal\n",
    "            while True:\n",
    "                response = await websocket.recv()\n",
    "                response_data = json.loads(response)\n",
    "\n",
    "                if response_data.get(\"status\") == \"done\":\n",
    "                    break\n",
    "\n",
    "                print(\"\\nResponse Received:\")\n",
    "                if \"text_with_comments\" in response_data:\n",
    "                    display(\n",
    "                        Markdown(\n",
    "                            f\"**Text with Comments:**\\n{response_data['text_with_comments']}\"\n",
    "                        )\n",
    "                    )\n",
    "                else:\n",
    "                    print(response_data)\n",
    "\n",
    "            # Small delay between requests\n",
    "            await asyncio.sleep(1)"
   ]
  },
  {
   "cell_type": "markdown",
   "metadata": {},
   "source": [
    "## Define Sample Text and Style Guide"
   ]
  },
  {
   "cell_type": "code",
   "execution_count": 20,
   "metadata": {},
   "outputs": [],
   "source": [
    "# Define some text samples for style checking\n",
    "text_samples = [\n",
    "    # \"The product was developed by our team over a period of six months and it has been lauded by critics for its innovative features, user-friendly interface, and cutting-edge technology.\",\n",
    "    # \"I believe that the implementation of the new system will significantly improve productivity, efficiency and customer satisfaction.\",\n",
    "    \"\"\"Chapter 3: The Spark and the Flutter\n",
    "The Xylos system was breathtaking. A binary pair of suns cast an ethereal, shifting light on the system's planets, painting them in hues of violet and gold. The third planet, designated Xylos-3, was a vibrant, oxygen-rich world, teeming with life unlike anything cataloged. And the energy signatures – they were stronger here, centered around a vast, crystalline forest that pulsed with a soft, internal light.\n",
    "\"Cap'n, look at this,\" Jax breathed, leaning over the scanner. \"The isotope readings... they're off the charts. This isn't just an energy source, Eva. It's colossal. It could power a thousand colonies, maybe more, for centuries.\"\n",
    "Eva felt a lump form in her throat. After all they had endured, all the doubt and hardship, it was real. The light. The salvation for Epsilon. Tears welled in her eyes, blurring the images on the screen – the pulsing forest, the thriving world. She thought of Anya, of the dim lights on the station, of the hope she was about to deliver.\n",
    "\"Prepare the landing sequence, Jax,\" she ordered, her voice thick with emotion. \"We need to get ground samples, confirm viability, and plot extraction points. This is it.\"\n",
    "As they guided the Odyssey towards a clearing near the crystalline forest, the ship's external cameras picked up movement below. Strange, six-legged creatures grazed on luminous moss. Exotic flora bloomed in explosions of color. It was a paradise.\n",
    "Then, the camera feed zoomed in on something small, fluttering near the edge of the forest. It was... iridescent, with large, deep blue eyes and gossamer wings. It looked impossibly delicate, like something spun from pure light and air.\n",
    "Eva froze. Her eyes widened, fixed on the creature. It wasn't the energy readings she was looking at anymore. It wasn't the pulsing forest, or the dying colony, or Anya's face in her mind. It was this tiny, ethereal being.\n",
    "An inexplicable change washed over her. The crushing weight she had carried for months, the burning urgency, the unwavering focus on the mission – it didn't just lessen, it vanished. Replaced by a sudden, overwhelming fascination, a childish wonder.\n",
    "\"Eva? Cap'n? Everything alright?\" Jax asked, noticing her stillness. \"Readings are stable for landing.\"\n",
    "Eva didn't respond immediately. She reached out, as if to touch the image on the screen. \"It's... it's a Lumina Moth,\" she whispered, her voice soft, entirely different from the decisive commander of moments before. \"I saw pictures in an old xenology text when I was a child. They were thought to be mythical.\"\n",
    "\"A... moth?\" Jax frowned, confused. \"Cap'n, the energy source is right there. We need to land, secure samples. Epsilon is waiting.\"\n",
    "Eva turned away from the console, her eyes distant, sparkling with a strange, new light that had nothing to do with the life-saving energy pulsing below. \"Landing can wait, Jax. Epsilon... Epsilon has survived this long. A little longer won't hurt.\"\n",
    "Jax stared at her, dumbfounded. \"A little longer? Eva, people are dying! We found it! The solution! Everything we worked for, everything you risked... for a... a moth?\"\n",
    "Eva walked past him, heading towards the ship's small observation port, her gaze fixed on the planet below, searching for the tiny, fluttering creature. \"It's not just a moth, Jax. It's... it's beautiful. Unique. A marvel of life. We have to study it. Protect it. I need to understand it.\" She spoke with a quiet intensity, but it was an intensity directed entirely at this new, trivial interest, not the life-or-death mission they were on.\n",
    "She turned back to Jax, her expression calm, almost serene, completely detached from the dire reality of their situation. \"Cancel the landing near the energy source. Plot a course for that valley,\" she ordered, pointing vaguely towards an area away from the glowing forest. \"I need to see that Lumina Moth up close. The energy can wait. My priority has changed.\"\n",
    "Jax could only gape at her, the console lights reflecting the utter disbelief in his eyes. The fate of thousands, the desperate hope of a dying world, suddenly rendered secondary to the fleeting beauty of a space insect. Eva Rostova, the woman who would tear through the void for her daughter, had inexplicably abandoned everything at the finish line.\n",
    "\"\"\"    \n",
    "]"
   ]
  },
  {
   "cell_type": "markdown",
   "metadata": {},
   "source": [
    "## Run the WebSocket Connection"
   ]
  },
  {
   "cell_type": "code",
   "execution_count": 21,
   "metadata": {},
   "outputs": [
    {
     "name": "stdout",
     "output_type": "stream",
     "text": [
      "\n",
      "--- Sending Text Sample 1 ---\n",
      "Text: Chapter 3: The Spark and the Flutter\n",
      "The Xylos system was breathtaking. A binary pair of suns cast a...\n",
      "\n",
      "Response Received:\n",
      "{'status': 'logic_inspector_initialized'}\n",
      "\n",
      "Response Received:\n",
      "{'original_text': \"The Xylos system was breathtaking. A binary pair of suns cast an ethereal, shifting light on the system's planets, painting them in hues of violet and gold.\", 'comment': 'Inconsistency: Chapter 1 describes Xylos as having a single red sun, not a binary pair of suns.'}\n",
      "\n",
      "Response Received:\n",
      "{'original_text': 'Eva walked past him, heading towards the ship\\'s small observation port, her gaze fixed on the planet below, searching for the tiny, fluttering creature. \"It\\'s not just a moth, Jax. It\\'s... it\\'s beautiful. Unique. A marvel of life. We have to study it. Protect it. I need to understand it.\"', 'comment': \"Logical inconsistency: Eva's character has been motivated by the mission and her daughter's future. Her sudden shift to abandon the mission for a moth contradicts her established motivations.\"}\n"
     ]
    }
   ],
   "source": [
    "# Run the websocket connection\n",
    "try:\n",
    "    await connect_to_style_guard(text_samples)\n",
    "except Exception as e:\n",
    "    print(f\"Error connecting to websocket: {e}\")"
   ]
  },
  {
   "cell_type": "markdown",
   "metadata": {},
   "source": [
    "## Alternative Approach with Manual Await (if needed)"
   ]
  },
  {
   "cell_type": "code",
   "execution_count": null,
   "metadata": {},
   "outputs": [],
   "source": [
    "# If the await above doesn't work directly in Jupyter, use this approach\n",
    "# asyncio.run(connect_to_style_guard(style_guide, text_samples))"
   ]
  }
 ],
 "metadata": {
  "kernelspec": {
   "display_name": "openai",
   "language": "python",
   "name": "python3"
  },
  "language_info": {
   "codemirror_mode": {
    "name": "ipython",
    "version": 3
   },
   "file_extension": ".py",
   "mimetype": "text/x-python",
   "name": "python",
   "nbconvert_exporter": "python",
   "pygments_lexer": "ipython3",
   "version": "3.13.3"
  }
 },
 "nbformat": 4,
 "nbformat_minor": 4
}
