{
 "cells": [
  {
   "cell_type": "markdown",
   "metadata": {},
   "source": [
    "#\n",
    "\n",
    "This notebook demonstrates how to connect to the Style Guard WebSocket service and send text for style checking."
   ]
  },
  {
   "cell_type": "code",
   "execution_count": 4,
   "metadata": {},
   "outputs": [],
   "source": [
    "import json\n",
    "import websockets\n",
    "import asyncio\n",
    "from IPython.display import display, Markdown"
   ]
  },
  {
   "cell_type": "markdown",
   "metadata": {},
   "source": [
    "## Define WebSocket Connection Function"
   ]
  },
  {
   "cell_type": "code",
   "execution_count": 5,
   "metadata": {},
   "outputs": [],
   "source": [
    "async def connect_to_style_guard(text_samples):\n",
    "    uri = \"ws://localhost:8000/api/logic-inspector\"\n",
    "\n",
    "    character_summaries = \"\"\"\n",
    "    Jax \n",
    "    Chapter: 1 \n",
    "    Jax dies on Xylos \n",
    "    \"\"\"\n",
    "    location_summaries = \"\"\"\n",
    "    Xylos\n",
    "    Chapter: 1\n",
    "    Xylos is a planet with a red sun.\n",
    "    \"\"\"\n",
    "    #\n",
    "    async with websockets.connect(uri) as websocket:\n",
    "        # Send initial style prompt\n",
    "        await websocket.send(\n",
    "            json.dumps(\n",
    "                {\n",
    "                    \"character_summaries\": character_summaries,\n",
    "                    \"location_summaries\": location_summaries,\n",
    "                }\n",
    "            )\n",
    "        )\n",
    "\n",
    "        # Process each text sample\n",
    "        for i, text in enumerate(text_samples):\n",
    "            print(f\"\\n--- Sending Text Sample {i+1} ---\")\n",
    "            print(f\"Text: {text[:100]}...\" if len(text) > 100 else f\"Text: {text}\")\n",
    "\n",
    "            # Send the text for checking\n",
    "            await websocket.send(json.dumps({\"text\": text}))\n",
    "\n",
    "            # Continue receiving messages until we get the \"done\" signal\n",
    "            while True:\n",
    "                response = await websocket.recv()\n",
    "                response_data = json.loads(response)\n",
    "\n",
    "                if response_data.get(\"status\") == \"done\":\n",
    "                    break\n",
    "\n",
    "                print(\"\\nResponse Received:\")\n",
    "                if \"text_with_comments\" in response_data:\n",
    "                    display(\n",
    "                        Markdown(\n",
    "                            f\"**Text with Comments:**\\n{response_data['text_with_comments']}\"\n",
    "                        )\n",
    "                    )\n",
    "                else:\n",
    "                    print(response_data)\n",
    "\n",
    "            # Small delay between requests\n",
    "            await asyncio.sleep(1)"
   ]
  },
  {
   "cell_type": "markdown",
   "metadata": {},
   "source": [
    "## Define Sample Text and Style Guide"
   ]
  },
  {
   "cell_type": "code",
   "execution_count": 7,
   "metadata": {},
   "outputs": [],
   "source": [
    "# Define some text samples for style checking\n",
    "text_samples = [\n",
    "    # \"The product was developed by our team over a period of six months and it has been lauded by critics for its innovative features, user-friendly interface, and cutting-edge technology.\",\n",
    "    # \"I believe that the implementation of the new system will significantly improve productivity, efficiency and customer satisfaction.\",\n",
    "    \"Chapter 5: Jax breaks his leg on Earth\"    \n",
    "]"
   ]
  },
  {
   "cell_type": "markdown",
   "metadata": {},
   "source": [
    "## Run the WebSocket Connection"
   ]
  },
  {
   "cell_type": "code",
   "execution_count": 8,
   "metadata": {},
   "outputs": [
    {
     "name": "stdout",
     "output_type": "stream",
     "text": [
      "\n",
      "--- Sending Text Sample 1 ---\n",
      "Text: Chapter 5: Jax breaks his leg on Earth\n",
      "\n",
      "Response Received:\n",
      "{'error': 'No text provided'}\n",
      "\n",
      "Response Received:\n",
      "{'original_text': 'Jax breaks his leg on Earth', 'comment': 'In Chapter 1, Jax dies on Xylos. He should not be appearing alive in Chapter 5.'}\n"
     ]
    }
   ],
   "source": [
    "# Run the websocket connection\n",
    "try:\n",
    "    await connect_to_style_guard(text_samples)\n",
    "except Exception as e:\n",
    "    print(f\"Error connecting to websocket: {e}\")"
   ]
  },
  {
   "cell_type": "markdown",
   "metadata": {},
   "source": [
    "## Alternative Approach with Manual Await (if needed)"
   ]
  },
  {
   "cell_type": "code",
   "execution_count": null,
   "metadata": {},
   "outputs": [],
   "source": [
    "# If the await above doesn't work directly in Jupyter, use this approach\n",
    "# asyncio.run(connect_to_style_guard(style_guide, text_samples))"
   ]
  }
 ],
 "metadata": {
  "kernelspec": {
   "display_name": "openai",
   "language": "python",
   "name": "python3"
  },
  "language_info": {
   "codemirror_mode": {
    "name": "ipython",
    "version": 3
   },
   "file_extension": ".py",
   "mimetype": "text/x-python",
   "name": "python",
   "nbconvert_exporter": "python",
   "pygments_lexer": "ipython3",
   "version": "3.9.6"
  }
 },
 "nbformat": 4,
 "nbformat_minor": 4
}
