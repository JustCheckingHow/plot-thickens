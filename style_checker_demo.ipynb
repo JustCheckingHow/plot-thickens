{
 "cells": [
  {
   "cell_type": "markdown",
   "metadata": {},
   "source": [
    "# Style Checker WebSocket Demo\n",
    "\n",
    "This notebook demonstrates how to connect to the Style Guard WebSocket service and send text for style checking."
   ]
  },
  {
   "cell_type": "code",
   "execution_count": 11,
   "metadata": {},
   "outputs": [],
   "source": [
    "import json\n",
    "import websockets\n",
    "import asyncio\n",
    "from IPython.display import display, Markdown"
   ]
  },
  {
   "cell_type": "markdown",
   "metadata": {},
   "source": [
    "## Define WebSocket Connection Function"
   ]
  },
  {
   "cell_type": "code",
   "execution_count": 16,
   "metadata": {},
   "outputs": [],
   "source": [
    "async def connect_to_style_guard(style_prompt, text_samples):\n",
    "    uri = \"ws://localhost:8000/api/style-guard\"\n",
    "    \n",
    "    async with websockets.connect(uri) as websocket:\n",
    "        # Send initial style prompt\n",
    "        await websocket.send(json.dumps({\"style_prompt\": style_prompt}))\n",
    "        \n",
    "        # Process each text sample\n",
    "        for i, text in enumerate(text_samples):\n",
    "            print(f\"\\n--- Sending Text Sample {i+1} ---\")\n",
    "            print(f\"Text: {text[:100]}...\" if len(text) > 100 else f\"Text: {text}\")\n",
    "            \n",
    "            # Send the text for checking\n",
    "            await websocket.send(json.dumps({\"text\": text}))\n",
    "            \n",
    "            # Continue receiving messages until we get the \"done\" signal\n",
    "            while True:\n",
    "                response = await websocket.recv()\n",
    "                response_data = json.loads(response)\n",
    "                \n",
    "                if response_data.get(\"status\") == \"done\":\n",
    "                    break\n",
    "                    \n",
    "                print(\"\\nResponse Received:\")\n",
    "                if \"text_with_comments\" in response_data:\n",
    "                    display(Markdown(f\"**Text with Comments:**\\n{response_data['text_with_comments']}\"))\n",
    "                else:\n",
    "                    print(response_data)\n",
    "            \n",
    "            # Small delay between requests\n",
    "            await asyncio.sleep(1)"
   ]
  },
  {
   "cell_type": "markdown",
   "metadata": {},
   "source": [
    "## Define Sample Text and Style Guide"
   ]
  },
  {
   "cell_type": "code",
   "execution_count": 18,
   "metadata": {},
   "outputs": [],
   "source": [
    "# Define a style guide prompt\n",
    "style_guide = \"\"\"\n",
    "1. Use active voice whenever possible.\n",
    "2. Keep sentences short and concise, ideally under 20 words.\n",
    "3. Avoid jargon and technical terms without explanation.\n",
    "4. Use Oxford comma in lists.\n",
    "5. Maintain a professional but conversational tone.\n",
    "6. Use 'we' instead of 'I' for company communications.\n",
    "7. Numbers less than 10 should be spelled out.\n",
    "\"\"\"\n",
    "\n",
    "# Define some text samples for style checking\n",
    "text_samples = [\n",
    "    # \"The product was developed by our team over a period of six months and it has been lauded by critics for its innovative features, user-friendly interface, and cutting-edge technology.\",\n",
    "    \n",
    "    # \"I believe that the implementation of the new system will significantly improve productivity, efficiency and customer satisfaction.\",\n",
    "    \n",
    "    \"The data was analyzed by the algorithm and 5 key insights were identified.\",\n",
    "    \n",
    "    \"We are excited to announce the launch of our new product that will revolutionize the way you work, play, and interact with technology on a daily basis, making your life easier and more productive than ever before.\"\n",
    "]"
   ]
  },
  {
   "cell_type": "markdown",
   "metadata": {},
   "source": [
    "## Run the WebSocket Connection"
   ]
  },
  {
   "cell_type": "code",
   "execution_count": 19,
   "metadata": {},
   "outputs": [
    {
     "name": "stdout",
     "output_type": "stream",
     "text": [
      "\n",
      "--- Sending Text Sample 1 ---\n",
      "Text: The data was analyzed by the algorithm and 5 key insights were identified.\n",
      "\n",
      "Response Received:\n",
      "{'status': 'style_prompt_updated'}\n",
      "\n",
      "Response Received:\n",
      "{'original_text': 'The data was analyzed by the algorithm and 5 key insights were identified.', 'comment': 'Use active voice and spell out numbers under 10.', 'suggestion': 'The algorithm analyzed the data and identified five key insights.'}\n",
      "\n",
      "--- Sending Text Sample 2 ---\n",
      "Text: We are excited to announce the launch of our new product that will revolutionize the way you work, p...\n",
      "\n",
      "Response Received:\n",
      "{'original_text': 'We are excited to announce the launch of our new product that will revolutionize the way you work, play, and interact with technology on a daily basis, making your life easier and more productive than ever before.', 'comment': 'The sentence is too long, with 39 words. Keep sentences under 20 words for conciseness.', 'suggestion': 'We are excited to announce the launch of our new product. It will revolutionize the way you work, play, and interact with technology, making your life easier and more productive.'}\n"
     ]
    }
   ],
   "source": [
    "# Run the websocket connection\n",
    "try:\n",
    "    await connect_to_style_guard(style_guide, text_samples)\n",
    "except Exception as e:\n",
    "    print(f\"Error connecting to websocket: {e}\")"
   ]
  },
  {
   "cell_type": "markdown",
   "metadata": {},
   "source": [
    "## Alternative Approach with Manual Await (if needed)"
   ]
  },
  {
   "cell_type": "code",
   "execution_count": null,
   "metadata": {},
   "outputs": [],
   "source": [
    "# If the await above doesn't work directly in Jupyter, use this approach\n",
    "# asyncio.run(connect_to_style_guard(style_guide, text_samples))"
   ]
  },
  {
   "cell_type": "markdown",
   "metadata": {},
   "source": [
    "## Update Style Guide Example"
   ]
  },
  {
   "cell_type": "code",
   "execution_count": null,
   "metadata": {},
   "outputs": [],
   "source": [
    "# Define a different style guide\n",
    "new_style_guide = \"\"\"\n",
    "1. Use a casual, friendly tone throughout.\n",
    "2. Incorporate first-person perspective (\"I\" statements).\n",
    "3. Keep paragraphs short - maximum 3 sentences.\n",
    "4. Use contractions (don't, can't, won't) freely.\n",
    "5. Include rhetorical questions to engage readers.\n",
    "6. Avoid complex vocabulary when simpler alternatives exist.\n",
    "\"\"\"\n",
    "\n",
    "# New text samples\n",
    "new_text_samples = [\n",
    "    \"The corporation endeavors to maximize shareholder value through the implementation of strategic organizational initiatives.\",\n",
    "    \n",
    "    \"Wouldn't you like to know more about our amazing new features? I think you'll find them super helpful for your daily tasks!\"\n",
    "]\n",
    "\n",
    "# Run with new style guide\n",
    "# Uncomment to run\n",
    "# await connect_to_style_guard(new_style_guide, new_text_samples)"
   ]
  }
 ],
 "metadata": {
  "kernelspec": {
   "display_name": "openai",
   "language": "python",
   "name": "python3"
  },
  "language_info": {
   "codemirror_mode": {
    "name": "ipython",
    "version": 3
   },
   "file_extension": ".py",
   "mimetype": "text/x-python",
   "name": "python",
   "nbconvert_exporter": "python",
   "pygments_lexer": "ipython3",
   "version": "3.9.6"
  }
 },
 "nbformat": 4,
 "nbformat_minor": 4
}
